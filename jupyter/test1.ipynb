{
 "cells": [
  {
   "cell_type": "code",
   "execution_count": 16,
   "metadata": {
    "collapsed": true
   },
   "outputs": [
    {
     "name": "stdout",
     "output_type": "stream",
     "text": [
      "3bc2cbef-b4e2-4e8f-8068-4840adc765e1\n",
      "37ff6874-acfc-4118-96f4-b24984ee544f\n",
      "bc13d21f\n"
     ]
    }
   ],
   "source": [
    "import uuid\n",
    "\n",
    "print(uuid.uuid4())\n",
    "print(uuid.uuid4())\n",
    "print(str(uuid.uuid4())[:8])"
   ]
  },
  {
   "cell_type": "code",
   "execution_count": 41,
   "outputs": [
    {
     "name": "stdout",
     "output_type": "stream",
     "text": [
      "b\"\\xfc\\t'\\x82$v\\x95T\\xd4\\x98\\xb8}\\xec5{,\"\n",
      "16\n",
      "fc09278224769554d498b87dec357b2c\n",
      "32\n"
     ]
    }
   ],
   "source": [
    "import hashlib\n",
    "list1=[1,2,3,4]\n",
    "\n",
    "s=hashlib.md5(str(list1).encode())\n",
    "# print(s.hexdigest())\n",
    "\n",
    "list2=[2,3,4]\n",
    "\n",
    "s=hashlib.md5(str(list2).encode())\n",
    "print(s.digest())\n",
    "print(len(s.digest()))\n",
    "print(s.hexdigest())\n",
    "print(len(s.hexdigest()))\n"
   ],
   "metadata": {
    "collapsed": false,
    "pycharm": {
     "name": "#%%\n"
    }
   }
  },
  {
   "cell_type": "code",
   "execution_count": 37,
   "outputs": [
    {
     "name": "stdout",
     "output_type": "stream",
     "text": [
      "16\n"
     ]
    }
   ],
   "source": [
    "s=\"123\"\n",
    "s=hashlib.md5(str(s).encode()).digest()\n",
    "print(len(s))"
   ],
   "metadata": {
    "collapsed": false,
    "pycharm": {
     "name": "#%%\n"
    }
   }
  },
  {
   "cell_type": "code",
   "execution_count": 36,
   "outputs": [
    {
     "name": "stdout",
     "output_type": "stream",
     "text": [
      "b'\\x00\\x00\\x00\\x00\\x00\\x00\\x00\\x01'\n",
      "[b'\\x00\\x00\\x00\\x00\\x00\\x00\\x00\\x01', b'\\x00\\x00\\x00\\x00\\x00\\x00\\x00\\x02']\n",
      "b'\\x00\\x00\\x00\\x00\\x00\\x00\\x00\\x01\\x00\\x00\\x00\\x00\\x00\\x00\\x00\\x02'\n",
      "b'\\x00\\x00\\x00\\x00\\x00\\x00\\x00\\x01\\x00\\x00\\x00\\x00\\x00\\x00\\x00\\x02'\n"
     ]
    }
   ],
   "source": [
    "from typing import List\n",
    "def int2bytes(val: int) -> bytes:\n",
    "    return val.to_bytes(length=8, byteorder='big', signed=True)\n",
    "\n",
    "print(int2bytes(1))\n",
    "\n",
    "def int_list_to_bytes(int_list:list)->List[bytes]:\n",
    "    return [int2bytes(i) for i in int_list]\n",
    "\n",
    "\n",
    "int_list=[1,2]\n",
    "s=int_list_to_bytes(int_list)\n",
    "\n",
    "from functools import reduce\n",
    "\n",
    "print(s)\n",
    "\n",
    "ss=reduce(lambda x,y:x+y,s)\n",
    "print(ss)\n",
    "\n",
    "\n",
    "def int_list_to_bytes(int_list:list)->bytes:\n",
    "    return reduce(lambda x,y:x+y,[int2bytes(i) for i in int_list])\n",
    "\n",
    "sss=int_list_to_bytes(int_list)\n",
    "print(sss)"
   ],
   "metadata": {
    "collapsed": false,
    "pycharm": {
     "name": "#%%\n"
    }
   }
  },
  {
   "cell_type": "code",
   "execution_count": 11,
   "outputs": [
    {
     "name": "stdout",
     "output_type": "stream",
     "text": [
      "b'\\x00'\n"
     ]
    }
   ],
   "source": [
    "bi:bytes=b'\\x00'\n",
    "# i=bytes(0x01)\n",
    "# u=bytes(0x04)\n",
    "print(bi)"
   ],
   "metadata": {
    "collapsed": false,
    "pycharm": {
     "name": "#%%\n"
    }
   }
  },
  {
   "cell_type": "code",
   "execution_count": 20,
   "outputs": [
    {
     "name": "stdout",
     "output_type": "stream",
     "text": [
      "1234\n",
      "5\n",
      "6\n"
     ]
    }
   ],
   "source": [
    "x=\"1234567890\"\n",
    "print(x[0:0+4])\n",
    "print(x[4:4+1])\n",
    "print(x[5:5+1])\n"
   ],
   "metadata": {
    "collapsed": false,
    "pycharm": {
     "name": "#%%\n"
    }
   }
  }
 ],
 "metadata": {
  "kernelspec": {
   "display_name": "Python 3",
   "language": "python",
   "name": "python3"
  },
  "language_info": {
   "codemirror_mode": {
    "name": "ipython",
    "version": 2
   },
   "file_extension": ".py",
   "mimetype": "text/x-python",
   "name": "python",
   "nbconvert_exporter": "python",
   "pygments_lexer": "ipython2",
   "version": "2.7.6"
  }
 },
 "nbformat": 4,
 "nbformat_minor": 0
}